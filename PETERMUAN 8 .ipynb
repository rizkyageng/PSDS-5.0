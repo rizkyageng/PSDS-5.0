{
  "nbformat": 4,
  "nbformat_minor": 0,
  "metadata": {
    "colab": {
      "provenance": []
    },
    "kernelspec": {
      "name": "python3",
      "display_name": "Python 3"
    },
    "language_info": {
      "name": "python"
    }
  },
  "cells": [
    {
      "cell_type": "code",
      "execution_count": 1,
      "metadata": {
        "colab": {
          "base_uri": "https://localhost:8080/"
        },
        "id": "MEAkt6L23Mqx",
        "outputId": "a086c967-cc5c-4f3a-b229-0a565e6e795c"
      },
      "outputs": [
        {
          "output_type": "stream",
          "name": "stdout",
          "text": [
            "<class 'list'>\n"
          ]
        }
      ],
      "source": [
        "#ContohList\n",
        "L1 = [1, 4, 2, 13]\n",
        "print(type(L1))"
      ]
    },
    {
      "cell_type": "code",
      "source": [
        "L2 = [\"a\", \"Python\", 3]\n",
        "print(type(L2))"
      ],
      "metadata": {
        "colab": {
          "base_uri": "https://localhost:8080/"
        },
        "id": "S9TwHT4L5BDu",
        "outputId": "007e1430-46e0-4d23-9320-60092690deb5"
      },
      "execution_count": 3,
      "outputs": [
        {
          "output_type": "stream",
          "name": "stdout",
          "text": [
            "<class 'list'>\n"
          ]
        }
      ]
    },
    {
      "cell_type": "code",
      "source": [
        "print(L1)\n",
        "print(L2)"
      ],
      "metadata": {
        "colab": {
          "base_uri": "https://localhost:8080/"
        },
        "id": "2WbqFZYh5BF5",
        "outputId": "1c89f23e-f65a-417e-bbf3-1ee4ce255006"
      },
      "execution_count": 4,
      "outputs": [
        {
          "output_type": "stream",
          "name": "stdout",
          "text": [
            "[1, 4, 2, 13]\n",
            "['a', 'Python', 3]\n"
          ]
        }
      ]
    },
    {
      "cell_type": "code",
      "source": [
        "#SifatSifatList\n",
        "#1.Terurut/Ordered\n",
        "print(\"Memanggil List L1 dengan indeks urutan:\", L1[0:3])\n",
        "\n",
        "#2.BisaDiganti/Mutable\n",
        "L1[1] = 2\n",
        "print(\"List L1 setelah diganti elemennya\", L1)\n",
        "\n",
        "L1 = [1, \"dua\", True, 2+3j]\n",
        "\n",
        "#3.DapatDiindeks/Slicing\n",
        "print(\"slicing list L1:\", L1[3])\n",
        "\n",
        "#4.Dapat Diijinkan Duplikasi\n",
        "L1 = [1, \"dua\", True, 2+3j, 2+3j]\n",
        "print(\"Duplikasi pada List L1:\", L1)\n",
        "\n",
        "#5.DapatMengubahDataDenganMenggantiElemenTertentu\n",
        "L1 = [1, \"dua\", True, 2+3j]\n",
        "L1[2] = 3\n",
        "print(\"Data Setelah Diubah:\", L1)\n",
        "\n",
        "#6.dapatMenambahkanElemenBaruPadaData\n",
        "L1 = [1, \"dua\", True, 2+3j]\n",
        "L1.remove(2+3j)\n",
        "print(\"Data setelah dihapus elemennya:\", L1)"
      ],
      "metadata": {
        "colab": {
          "base_uri": "https://localhost:8080/"
        },
        "id": "gxwMT_jV5BHz",
        "outputId": "8130946e-c419-4075-826a-d5becab1b4aa"
      },
      "execution_count": 6,
      "outputs": [
        {
          "output_type": "stream",
          "name": "stdout",
          "text": [
            "Memanggil List L1 dengan indeks urutan: [1, 4, 2]\n",
            "List L1 setelah diganti elemennya [1, 2, 2, 13]\n",
            "slicing list L1: (2+3j)\n",
            "Duplikasi pada List L1: [1, 'dua', True, (2+3j), (2+3j)]\n",
            "Data Setelah Diubah: [1, 'dua', 3, (2+3j)]\n",
            "Data setelah dihapus elemennya: [1, 'dua', True]\n"
          ]
        }
      ]
    },
    {
      "cell_type": "code",
      "source": [
        "#7.MenambahkanDataMenggunakanFungsiExtend(MenambahkanElemenBaruPadaListNamunElementTersebutDitambahkanSecaraIndividual)\n",
        "L1 = [1, \"dua\", True, 2+3j]\n",
        "L1.extend(\"nanas\")\n",
        "print(L1)"
      ],
      "metadata": {
        "colab": {
          "base_uri": "https://localhost:8080/"
        },
        "id": "8iV_x5-25BLP",
        "outputId": "d0170a0e-dcfa-4455-f7e0-6e1484ebeb8f"
      },
      "execution_count": 7,
      "outputs": [
        {
          "output_type": "stream",
          "name": "stdout",
          "text": [
            "[1, 'dua', True, (2+3j), 'n', 'a', 'n', 'a', 's']\n"
          ]
        }
      ]
    },
    {
      "cell_type": "code",
      "source": [
        "L1 = [1, \"dua\", True, 2+3j]\n",
        "L1.extend([\"nanas\"])\n",
        "print(L1)"
      ],
      "metadata": {
        "colab": {
          "base_uri": "https://localhost:8080/"
        },
        "id": "bEQqxogq7mww",
        "outputId": "0bb3934e-fe08-46f9-d865-4866234261fc"
      },
      "execution_count": 8,
      "outputs": [
        {
          "output_type": "stream",
          "name": "stdout",
          "text": [
            "[1, 'dua', True, (2+3j), 'nanas']\n"
          ]
        }
      ]
    },
    {
      "cell_type": "code",
      "source": [
        "#8.MenambahkanDataMenggunakanFungsiInsert(MenambahkanElemenBaruDiListPadaIndeksTertentu)\n",
        "L1 = [1, \"dua\", True, 2+3j]\n",
        "L1.insert(2, 5)\n",
        "print(L1)"
      ],
      "metadata": {
        "colab": {
          "base_uri": "https://localhost:8080/"
        },
        "id": "SBf45l2J7m8m",
        "outputId": "debd057e-29b4-4797-ef17-029d9c80ac3c"
      },
      "execution_count": 9,
      "outputs": [
        {
          "output_type": "stream",
          "name": "stdout",
          "text": [
            "[1, 'dua', 5, True, (2+3j)]\n"
          ]
        }
      ]
    },
    {
      "cell_type": "code",
      "source": [
        "#9.MenghapusElemenDariListMenggunakanFungsiPop(MenghapusBerdasarkanIndeks)\n",
        "L1 = [1, \"dua\", True, 2+3j]\n",
        "L1.pop(2)\n",
        "print(L1)"
      ],
      "metadata": {
        "colab": {
          "base_uri": "https://localhost:8080/"
        },
        "id": "Pxdlvddk7nFA",
        "outputId": "4480b26f-5111-4c24-c64f-480d7c39bb1d"
      },
      "execution_count": 10,
      "outputs": [
        {
          "output_type": "stream",
          "name": "stdout",
          "text": [
            "[1, 'dua', (2+3j)]\n"
          ]
        }
      ]
    },
    {
      "cell_type": "code",
      "source": [
        "L1 = [1, \"dua\", True, 2+3j]\n",
        "L1.pop()\n",
        "print(L1)"
      ],
      "metadata": {
        "colab": {
          "base_uri": "https://localhost:8080/"
        },
        "id": "P7HqUCSp8VVt",
        "outputId": "8d075736-187c-459c-81de-ea8ccff4226c"
      },
      "execution_count": 11,
      "outputs": [
        {
          "output_type": "stream",
          "name": "stdout",
          "text": [
            "[1, 'dua', True]\n"
          ]
        }
      ]
    },
    {
      "cell_type": "markdown",
      "source": [
        "Latihan 1. Buatlah List kalian sendiri"
      ],
      "metadata": {
        "id": "IQAYG_TsAZWG"
      }
    },
    {
      "cell_type": "code",
      "source": [
        "LS = [2, \"tiga\", False, 3+4j]\n",
        "print(LS)"
      ],
      "metadata": {
        "colab": {
          "base_uri": "https://localhost:8080/"
        },
        "id": "JrdOUpfBAefx",
        "outputId": "7c49e589-a285-4dce-8ef3-b69239a0f844"
      },
      "execution_count": 12,
      "outputs": [
        {
          "output_type": "stream",
          "name": "stdout",
          "text": [
            "[2, 'tiga', False, (3+4j)]\n"
          ]
        }
      ]
    },
    {
      "cell_type": "markdown",
      "source": [
        "Latihan 2. Ganti elemen yang ada pada list yang kalian buat"
      ],
      "metadata": {
        "id": "f5neof6VAfDX"
      }
    },
    {
      "cell_type": "code",
      "source": [
        "LS = [2, \"tiga\", False, 3+4j]\n",
        "\n",
        "LS.extend(\"apple\")\n",
        "print(LS)\n",
        "\n",
        "LS.extend([\"apple\"])\n",
        "print(LS)\n",
        "\n",
        "LS.insert(3, 6)\n",
        "print(LS)\n",
        "\n",
        "LS.pop(3)\n",
        "print(LS)"
      ],
      "metadata": {
        "colab": {
          "base_uri": "https://localhost:8080/"
        },
        "id": "kkUzBt6RAluO",
        "outputId": "76698b5f-446d-4186-a332-69f7de557d99"
      },
      "execution_count": 17,
      "outputs": [
        {
          "output_type": "stream",
          "name": "stdout",
          "text": [
            "[2, 'tiga', False, (3+4j), 'a', 'p', 'p', 'l', 'e']\n",
            "[2, 'tiga', False, (3+4j), 'a', 'p', 'p', 'l', 'e', 'apple']\n",
            "[2, 'tiga', False, 6, (3+4j), 'a', 'p', 'p', 'l', 'e', 'apple']\n",
            "[2, 'tiga', False, (3+4j), 'a', 'p', 'p', 'l', 'e', 'apple']\n"
          ]
        }
      ]
    }
  ]
}